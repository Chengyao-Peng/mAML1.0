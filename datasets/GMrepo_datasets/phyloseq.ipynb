{
 "cells": [
  {
   "cell_type": "markdown",
   "metadata": {},
   "source": [
    "# [Installing the phyloseq package](https://joey711.github.io/phyloseq/install.html#quick_install)\n",
    "\n",
    "https://vaulot.github.io/tutorials/Phyloseq_tutorial.html#gettin-started\n",
    "\n",
    "\n"
   ]
  },
  {
   "cell_type": "markdown",
   "metadata": {},
   "source": [
    "https://bioconductor.org/packages/release/bioc/vignettes/phyloseq/inst/doc/phyloseq-analysis.html\n",
    "\n",
    "The most updated examples are posted in our online tutorials from the [phyloseq home page](http://joey711.github.io/phyloseq/)\n",
    "\n"
   ]
  },
  {
   "cell_type": "code",
   "execution_count": null,
   "metadata": {},
   "outputs": [],
   "source": [
    "# 5 Prerequisites to be installed\n",
    "# R : https://pbil.univ-lyon1.fr/CRAN/\n",
    "\n",
    "# R studio : https://www.rstudio.com/products/rstudio/download/#download\n",
    "\n",
    "# Download this tutorial from GitHub : https://github.com/vaulot/R_tutorials/archive/master.zip\n",
    "\n",
    "# Download and install the following libraries by running under R studio the following lines\n",
    "\n",
    "# install.packages(\"dplyr\")     # To manipulate dataframes\n",
    "# install.packages(\"readxl\")    # To read Excel files into R\n",
    "# install.packages(\"ggplot2\")   # for high quality graphics\n",
    "\n",
    "# install.packages('BiocManager')\n",
    "# library(BiocManager)\n",
    "# # BiocManager::install() \n",
    "# BiocManager::install(\"phyloseq\")\n",
    "   "
   ]
  },
  {
   "cell_type": "code",
   "execution_count": null,
   "metadata": {},
   "outputs": [],
   "source": [
    "library(\"readxl\")       # necessary to import the data from Excel file\n",
    "library(\"dplyr\")        # filter and reformat data frames\n",
    "library(\"phyloseq\")\n",
    "library(\"ggplot2\")      # graphics\n",
    "library('tidyr')\n",
    "theme_set(theme_bw())\n",
    "library('ape')"
   ]
  },
  {
   "cell_type": "markdown",
   "metadata": {},
   "source": [
    "# [Importing phyloseq Data](http://joey711.github.io/phyloseq/import-data.html)\n",
    "\n",
    "参考分析文档：\n",
    "\n",
    "https://vaulot.github.io/tutorials/Phyloseq_tutorial.html#gettin-started\n",
    "\n",
    "https://bioconductor.org/packages/release/bioc/vignettes/phyloseq/inst/doc/phyloseq-analysis.html\n",
    "\n",
    "http://joey711.github.io/phyloseq/import-data.html\n",
    "\n",
    "McMurdie and Holmes (2014) Shiny-phyloseq: Web Application for Interactive Microbiome Analysis with Provenance Tracking. Bioinformatics (Oxford, England) 31(2), 282–283.\n",
    "\n",
    "McMurdie and Holmes (2013) phyloseq: An R package for reproducible interactive analysis and graphics of microbiome census data PLoS ONE 8(4):e61217\n",
    "\n",
    "\n",
    "![](http://www.plosone.org/article/info:doi/10.1371/journal.pone.0061217.g003/largerimage)\n"
   ]
  },
  {
   "cell_type": "code",
   "execution_count": null,
   "metadata": {},
   "outputs": [],
   "source": []
  },
  {
   "cell_type": "markdown",
   "metadata": {},
   "source": [
    "## metagenome\n",
    "\n",
    "写R函数来批量测试不同的疾病"
   ]
  },
  {
   "cell_type": "code",
   "execution_count": 1,
   "metadata": {},
   "outputs": [],
   "source": [
    "library(\"phyloseq\")\n"
   ]
  },
  {
   "cell_type": "code",
   "execution_count": 22,
   "metadata": {},
   "outputs": [],
   "source": [
    "disease_project_physeq <- function(otutable,\n",
    "                           taxtable,\n",
    "                           sampledata,\n",
    "                           treef = NULL, #nw format tree generated from ete3\n",
    "                           outdir='./',\n",
    "                           healthIDs=c('D006262'),\n",
    "                           meshIDs=c('D003093', 'D006262')){\n",
    "    meshID_allHealth_samples <- sampledata %>% filter(Disease.MESH.ID %in% meshIDs) \n",
    "    disease_projects <- meshID_allHealth_samples %>%\n",
    "                        filter(!Disease.MESH.ID %in% healthIDs) %>% #projects with disease samples\n",
    "                        .$Project.ID %>%\n",
    "                        unique()\n",
    "    if (!length(disease_projects)) return('disease has no control health samples')\n",
    "    \n",
    "    meshID_sample <- meshID_allHealth_samples %>%\n",
    "                    filter(Project.ID %in% disease_projects)\n",
    "    \n",
    "    meshID_otutable <- otutable %>% \n",
    "        select(ncbi_taxon_id,as.vector(meshID_sample$Run.ID)) %>%\n",
    "        filter(rowSums(.[-1])>0) \n",
    "    meshID_tax <- taxtable %>% filter(.$ncbi_taxon_id %in% meshID_otutable$ncbi_taxon_id)\n",
    "    \n",
    "    row.names(meshID_otutable) <- meshID_otutable$ncbi_taxon_id\n",
    "    otu_mat <- meshID_otutable %>% select (-ncbi_taxon_id) \n",
    "    otu_mat <- otu_mat / 100 #relative abundance\n",
    "    \n",
    "    row.names(meshID_tax) <- meshID_tax$ncbi_taxon_id\n",
    "    tax_mat <- meshID_tax %>% select (-ncbi_taxon_id) \n",
    "    \n",
    "    row.names(meshID_sample) <- meshID_sample$Run.ID\n",
    "    samples_df <- meshID_sample #%>% select (-Run.ID)\n",
    "    \n",
    "    OTU <- otu_table(as.matrix(otu_mat), taxa_are_rows = TRUE)\n",
    "    TAX <- tax_table(as.matrix(tax_mat))  \n",
    "    samples <- sample_data(samples_df)\n",
    "    \n",
    "    if (!is.null(treef)){\n",
    "        tree <- read_tree(treef)\n",
    "        pylsq <- phyloseq(OTU, TAX, samples, tree)\n",
    "        \n",
    "    }else{\n",
    "        pylsq <- phyloseq(OTU, TAX, samples)\n",
    "    }\n",
    "    \n",
    "    save(pylsq,file = paste0(outdir,'phyloseq.RData'))\n",
    "    \n",
    "    colnames(meshID_sample)[1] <- '#SampleID'\n",
    "    write.table(meshID_sample,file=paste0(outdir,'sample_data.xls'),sep='\\t',row.names = FALSE,quote = FALSE)\n",
    "    \n",
    "    otu_mat <- cbind(featureid = rownames(otu_mat), otu_mat)\n",
    "    write.table(otu_mat,file=paste0(outdir,'otu_table.xls'),sep='\\t', quote = FALSE, row.names = F)\n",
    "    \n",
    "    tax_mat <- cbind(featureid = rownames(tax_mat), tax_mat)\n",
    "    write.table(tax_mat,file=paste0(outdir,'tax_table.xls'),sep='\\t', quote = FALSE, row.names = F)\n",
    "    \n",
    "    write.tree(pylsq@phy_tree,file=paste0(outdir,'tree.nwk'))\n",
    "\n",
    "    return(pylsq)\n",
    "\n",
    "}"
   ]
  },
  {
   "cell_type": "code",
   "execution_count": null,
   "metadata": {},
   "outputs": [],
   "source": []
  },
  {
   "cell_type": "markdown",
   "metadata": {},
   "source": [
    "## Keep only samples with healthy controls to be analyzed\n",
    "\n"
   ]
  },
  {
   "cell_type": "markdown",
   "metadata": {},
   "source": [
    "D006262\tHealth\n",
    "\n",
    "D003093\tColitis, Ulcerative"
   ]
  },
  {
   "cell_type": "code",
   "execution_count": 251,
   "metadata": {},
   "outputs": [
    {
     "data": {
      "text/html": [
       "<table>\n",
       "<caption>A data.frame: 6 × 3</caption>\n",
       "<thead>\n",
       "\t<tr><th></th><th scope=col>disease</th><th scope=col>term</th><th scope=col>note</th></tr>\n",
       "\t<tr><th></th><th scope=col>&lt;fct&gt;</th><th scope=col>&lt;fct&gt;</th><th scope=col>&lt;fct&gt;</th></tr>\n",
       "</thead>\n",
       "<tbody>\n",
       "\t<tr><th scope=row>0</th><td>C537163   </td><td>Pediatric Autoimmune Neuropsychiatric Disorders Associated with Streptococcal infections</td><td>OBSESSIVE-COMPULSIVE DISORDER and TIC DISORDERS that occur in children, typically under age 10, and is associated with group A beta-hemolytic Streptococcal infection. Onset occurs rapidly and patients may also exhibit emotional lability; SEPARATION ANXIETY DISORDER; ANOREXIA; and ADDH - like symptoms. AUTOIMMUNITY against proteins in the BASAL GANGLIA may cause this disorder.                                                                                                     </td></tr>\n",
       "\t<tr><th scope=row>1</th><td>D000067011</td><td>Severe Acute Malnutrition                                                               </td><td>Acute form of MALNUTRITION which usually affects children, characterized by a very low weight for height (below -3z scores of the median World Health Organization standards), visible severe wasting, or occurrence of nutritional EDEMA.  It can be a direct or indirect cause of fatality in children suffering from DIARRHEA and PNEUMONIA. Do not confuse with starvation, a condition in which the body is not getting enough food, usually for extended periods of time.                </td></tr>\n",
       "\t<tr><th scope=row>2</th><td>D000067877</td><td>Autism Spectrum Disorder                                                                </td><td>Wide continuum of associated cognitive and neurobehavioral disorders, including, but not limited to, three core-defining features: impairments in socialization, impairments in verbal and nonverbal communication, and restricted and repetitive patterns of behaviors. (from DSM-V)                                                                                                                                                                                                          </td></tr>\n",
       "\t<tr><th scope=row>3</th><td>D000236   </td><td>Adenoma                                                                                 </td><td>A benign epithelial tumor with a glandular organization.                                                                                                                                                                                                                                                                                                                                                                                                                                       </td></tr>\n",
       "\t<tr><th scope=row>4</th><td>D000544   </td><td>Alzheimer Disease                                                                       </td><td>A degenerative disease of the BRAIN characterized by the insidious onset of DEMENTIA. Impairment of MEMORY, judgment, attention span, and problem solving skills are followed by severe APRAXIAS and a global loss of cognitive abilities. The condition primarily occurs after age 60, and is marked pathologically by severe cortical atrophy and the triad of SENILE PLAQUES; NEUROFIBRILLARY TANGLES; and NEUROPIL THREADS. (From Adams et al., Principles of Neurology, 6th ed, pp1049-57)</td></tr>\n",
       "\t<tr><th scope=row>5</th><td>D000755   </td><td>Anemia, Sickle Cell                                                                     </td><td>A disease characterized by chronic hemolytic anemia, episodic painful crises, and pathologic involvement of many organs. It is the clinical expression of homozygosity for hemoglobin S.                                                                                                                                                                                                                                                                                                       </td></tr>\n",
       "</tbody>\n",
       "</table>\n"
      ],
      "text/latex": [
       "A data.frame: 6 × 3\n",
       "\\begin{tabular}{r|lll}\n",
       "  & disease & term & note\\\\\n",
       "  & <fct> & <fct> & <fct>\\\\\n",
       "\\hline\n",
       "\t0 & C537163    & Pediatric Autoimmune Neuropsychiatric Disorders Associated with Streptococcal infections & OBSESSIVE-COMPULSIVE DISORDER and TIC DISORDERS that occur in children, typically under age 10, and is associated with group A beta-hemolytic Streptococcal infection. Onset occurs rapidly and patients may also exhibit emotional lability; SEPARATION ANXIETY DISORDER; ANOREXIA; and ADDH - like symptoms. AUTOIMMUNITY against proteins in the BASAL GANGLIA may cause this disorder.                                                                                                     \\\\\n",
       "\t1 & D000067011 & Severe Acute Malnutrition                                                                & Acute form of MALNUTRITION which usually affects children, characterized by a very low weight for height (below -3z scores of the median World Health Organization standards), visible severe wasting, or occurrence of nutritional EDEMA.  It can be a direct or indirect cause of fatality in children suffering from DIARRHEA and PNEUMONIA. Do not confuse with starvation, a condition in which the body is not getting enough food, usually for extended periods of time.                \\\\\n",
       "\t2 & D000067877 & Autism Spectrum Disorder                                                                 & Wide continuum of associated cognitive and neurobehavioral disorders, including, but not limited to, three core-defining features: impairments in socialization, impairments in verbal and nonverbal communication, and restricted and repetitive patterns of behaviors. (from DSM-V)                                                                                                                                                                                                          \\\\\n",
       "\t3 & D000236    & Adenoma                                                                                  & A benign epithelial tumor with a glandular organization.                                                                                                                                                                                                                                                                                                                                                                                                                                       \\\\\n",
       "\t4 & D000544    & Alzheimer Disease                                                                        & A degenerative disease of the BRAIN characterized by the insidious onset of DEMENTIA. Impairment of MEMORY, judgment, attention span, and problem solving skills are followed by severe APRAXIAS and a global loss of cognitive abilities. The condition primarily occurs after age 60, and is marked pathologically by severe cortical atrophy and the triad of SENILE PLAQUES; NEUROFIBRILLARY TANGLES; and NEUROPIL THREADS. (From Adams et al., Principles of Neurology, 6th ed, pp1049-57)\\\\\n",
       "\t5 & D000755    & Anemia, Sickle Cell                                                                      & A disease characterized by chronic hemolytic anemia, episodic painful crises, and pathologic involvement of many organs. It is the clinical expression of homozygosity for hemoglobin S.                                                                                                                                                                                                                                                                                                       \\\\\n",
       "\\end{tabular}\n"
      ],
      "text/markdown": [
       "\n",
       "A data.frame: 6 × 3\n",
       "\n",
       "| <!--/--> | disease &lt;fct&gt; | term &lt;fct&gt; | note &lt;fct&gt; |\n",
       "|---|---|---|---|\n",
       "| 0 | C537163    | Pediatric Autoimmune Neuropsychiatric Disorders Associated with Streptococcal infections | OBSESSIVE-COMPULSIVE DISORDER and TIC DISORDERS that occur in children, typically under age 10, and is associated with group A beta-hemolytic Streptococcal infection. Onset occurs rapidly and patients may also exhibit emotional lability; SEPARATION ANXIETY DISORDER; ANOREXIA; and ADDH - like symptoms. AUTOIMMUNITY against proteins in the BASAL GANGLIA may cause this disorder.                                                                                                      |\n",
       "| 1 | D000067011 | Severe Acute Malnutrition                                                                | Acute form of MALNUTRITION which usually affects children, characterized by a very low weight for height (below -3z scores of the median World Health Organization standards), visible severe wasting, or occurrence of nutritional EDEMA.  It can be a direct or indirect cause of fatality in children suffering from DIARRHEA and PNEUMONIA. Do not confuse with starvation, a condition in which the body is not getting enough food, usually for extended periods of time.                 |\n",
       "| 2 | D000067877 | Autism Spectrum Disorder                                                                 | Wide continuum of associated cognitive and neurobehavioral disorders, including, but not limited to, three core-defining features: impairments in socialization, impairments in verbal and nonverbal communication, and restricted and repetitive patterns of behaviors. (from DSM-V)                                                                                                                                                                                                           |\n",
       "| 3 | D000236    | Adenoma                                                                                  | A benign epithelial tumor with a glandular organization.                                                                                                                                                                                                                                                                                                                                                                                                                                        |\n",
       "| 4 | D000544    | Alzheimer Disease                                                                        | A degenerative disease of the BRAIN characterized by the insidious onset of DEMENTIA. Impairment of MEMORY, judgment, attention span, and problem solving skills are followed by severe APRAXIAS and a global loss of cognitive abilities. The condition primarily occurs after age 60, and is marked pathologically by severe cortical atrophy and the triad of SENILE PLAQUES; NEUROFIBRILLARY TANGLES; and NEUROPIL THREADS. (From Adams et al., Principles of Neurology, 6th ed, pp1049-57) |\n",
       "| 5 | D000755    | Anemia, Sickle Cell                                                                      | A disease characterized by chronic hemolytic anemia, episodic painful crises, and pathologic involvement of many organs. It is the clinical expression of homozygosity for hemoglobin S.                                                                                                                                                                                                                                                                                                        |\n",
       "\n"
      ],
      "text/plain": [
       "  disease   \n",
       "0 C537163   \n",
       "1 D000067011\n",
       "2 D000067877\n",
       "3 D000236   \n",
       "4 D000544   \n",
       "5 D000755   \n",
       "  term                                                                                    \n",
       "0 Pediatric Autoimmune Neuropsychiatric Disorders Associated with Streptococcal infections\n",
       "1 Severe Acute Malnutrition                                                               \n",
       "2 Autism Spectrum Disorder                                                                \n",
       "3 Adenoma                                                                                 \n",
       "4 Alzheimer Disease                                                                       \n",
       "5 Anemia, Sickle Cell                                                                     \n",
       "  note                                                                                                                                                                                                                                                                                                                                                                                                                                                                                           \n",
       "0 OBSESSIVE-COMPULSIVE DISORDER and TIC DISORDERS that occur in children, typically under age 10, and is associated with group A beta-hemolytic Streptococcal infection. Onset occurs rapidly and patients may also exhibit emotional lability; SEPARATION ANXIETY DISORDER; ANOREXIA; and ADDH - like symptoms. AUTOIMMUNITY against proteins in the BASAL GANGLIA may cause this disorder.                                                                                                     \n",
       "1 Acute form of MALNUTRITION which usually affects children, characterized by a very low weight for height (below -3z scores of the median World Health Organization standards), visible severe wasting, or occurrence of nutritional EDEMA.  It can be a direct or indirect cause of fatality in children suffering from DIARRHEA and PNEUMONIA. Do not confuse with starvation, a condition in which the body is not getting enough food, usually for extended periods of time.                \n",
       "2 Wide continuum of associated cognitive and neurobehavioral disorders, including, but not limited to, three core-defining features: impairments in socialization, impairments in verbal and nonverbal communication, and restricted and repetitive patterns of behaviors. (from DSM-V)                                                                                                                                                                                                          \n",
       "3 A benign epithelial tumor with a glandular organization.                                                                                                                                                                                                                                                                                                                                                                                                                                       \n",
       "4 A degenerative disease of the BRAIN characterized by the insidious onset of DEMENTIA. Impairment of MEMORY, judgment, attention span, and problem solving skills are followed by severe APRAXIAS and a global loss of cognitive abilities. The condition primarily occurs after age 60, and is marked pathologically by severe cortical atrophy and the triad of SENILE PLAQUES; NEUROFIBRILLARY TANGLES; and NEUROPIL THREADS. (From Adams et al., Principles of Neurology, 6th ed, pp1049-57)\n",
       "5 A disease characterized by chronic hemolytic anemia, episodic painful crises, and pathologic involvement of many organs. It is the clinical expression of homozygosity for hemoglobin S.                                                                                                                                                                                                                                                                                                       "
      ]
     },
     "metadata": {},
     "output_type": "display_data"
    }
   ],
   "source": [
    "diseasef='./meshID_phenotypes.csv'\n",
    "disease = read.csv(diseasef,row.names = 1,header=T)\n",
    "disease %>%head()\n",
    "#疾病名字太长，还是用meshid\n",
    "# metadata不修改了"
   ]
  },
  {
   "cell_type": "markdown",
   "metadata": {},
   "source": [
    "## metagenome\n",
    "\n",
    "\n"
   ]
  },
  {
   "cell_type": "code",
   "execution_count": null,
   "metadata": {},
   "outputs": [],
   "source": [
    "sampledata <- read.csv('metagenome/Metagenome_metadata.xls',sep='\\t')\n",
    "sampledata <- unique(sampledata) #有重复行\n",
    "diseaseIDs <- disease$disease[!disease$disease=='D006262' ]\n",
    "genus_disease <- sampledata$Disease.MESH.ID[sampledata$Disease.MESH.ID %in% diseaseIDs & sampledata$Run.ID %in% colnames(gotutable)[-1]]\n",
    "length(unique(genus_disease))\n",
    "metagenome_diseaseIDs<- unique(genus_disease)"
   ]
  },
  {
   "cell_type": "code",
   "execution_count": 467,
   "metadata": {},
   "outputs": [],
   "source": [
    "write.table(unique(genus_disease),'metagenome_otutable_diseaseIDs.tsv',quote = F,col.names = F)\n"
   ]
  },
  {
   "cell_type": "code",
   "execution_count": 4,
   "metadata": {},
   "outputs": [],
   "source": [
    "genus_disease <- read.table('metagenome_otutable_diseaseIDs.tsv',row.names = 1)\n",
    "metagenome_diseaseIDs<- unique(genus_disease$V2)"
   ]
  },
  {
   "cell_type": "code",
   "execution_count": 63,
   "metadata": {},
   "outputs": [],
   "source": [
    "sampledata <- unique(sampledata) #有重复行"
   ]
  },
  {
   "cell_type": "code",
   "execution_count": null,
   "metadata": {},
   "outputs": [],
   "source": []
  },
  {
   "cell_type": "markdown",
   "metadata": {},
   "source": [
    "### metagenome genus"
   ]
  },
  {
   "cell_type": "code",
   "execution_count": null,
   "metadata": {},
   "outputs": [],
   "source": [
    "# meta = read.table('./metagenome/diseases/UC/genus/otu_table.xls',sep='\\t',header=T,row.names = 1)\n",
    "# write.table(meta,file=paste0(outdir,'test.xls'),sep='\\t', quote = FALSE, row.names = T)\n",
    "# tax <- read.csv(file = 'metagenome/g_tax.txt',sep='\\t',header = 0)\n",
    "# tax_head <-  c(\"Domain\", \"Phylum\", \"Class\", \"Order\", \"Family\", \"Genus\", \"Species\")\n",
    "# taxtable <- separate(tax,V2,tax_head, sep=';')\n",
    "# head(taxtable) #去掉了末尾的空s__\n",
    "\n",
    "tax <- read.csv(file = 'metagenome/g_tax.csv')\n",
    "tax_head <-  c(\"Domain\", \"Phylum\", \"Class\", \"Order\", \"Family\", \"Genus\", \"Species\")\n",
    "taxtable <- separate(tax,scientific_name,tax_head, sep=';')\n",
    "otutable <- read.csv('metagenome/genus_table.csv')\n"
   ]
  },
  {
   "cell_type": "code",
   "execution_count": 73,
   "metadata": {},
   "outputs": [],
   "source": [
    "sampledata <- sampledata[! sampledata$Run.ID %in% c('ERR2239214', 'ERR2239287', 'ERR2239800'),]\n",
    "write.table(sampledata,'metagenome/Metagenome_metadata.uniq.xls',quote = F,col.names = T,row.names = F,sep='\\t')"
   ]
  },
  {
   "cell_type": "code",
   "execution_count": 75,
   "metadata": {},
   "outputs": [],
   "source": [
    "treef <- './metagenome/g_tree9.nwk'\n",
    "healthIDs=c('D006262')\n",
    "# diseaseID=c('D003093') \n",
    "\n",
    "for (diseaseID in metagenome_diseaseIDs) {\n",
    "  \n",
    "    outdir <- Sys.glob(paste0('./metagenome/diseases/',diseaseID,'_*/genus/'))\n",
    "    meshIDs = append(diseaseID, healthIDs)\n",
    "    uc_phyloseq <- disease_project_physeq(otutable,\n",
    "                                          taxtable,\n",
    "                                          sampledata,\n",
    "                                          treef=treef,\n",
    "                                          outdir=outdir,\n",
    "                                          healthIDs=healthIDs,\n",
    "                                          meshIDs=meshIDs) \n",
    "  \n",
    "}"
   ]
  },
  {
   "cell_type": "code",
   "execution_count": 127,
   "metadata": {},
   "outputs": [
    {
     "data": {
      "text/html": [
       "49"
      ],
      "text/latex": [
       "49"
      ],
      "text/markdown": [
       "49"
      ],
      "text/plain": [
       "[1] 49"
      ]
     },
     "metadata": {},
     "output_type": "display_data"
    }
   ],
   "source": [
    "length(metagenome_diseaseIDs)"
   ]
  },
  {
   "cell_type": "markdown",
   "metadata": {},
   "source": [
    "### metagenome species"
   ]
  },
  {
   "cell_type": "code",
   "execution_count": 129,
   "metadata": {},
   "outputs": [
    {
     "data": {
      "text/html": [
       "<table>\n",
       "<caption>A data.frame: 6 × 12</caption>\n",
       "<thead>\n",
       "\t<tr><th scope=col>Run.ID</th><th scope=col>Project.ID</th><th scope=col>Experiment.type</th><th scope=col>Nr..reads.sequenced</th><th scope=col>Country</th><th scope=col>Sex</th><th scope=col>Host.age</th><th scope=col>BMI</th><th scope=col>Recent.antibiotics.use</th><th scope=col>Disease.MESH.ID</th><th scope=col>Disease.name</th><th scope=col>QC.status</th></tr>\n",
       "\t<tr><th scope=col>&lt;fct&gt;</th><th scope=col>&lt;fct&gt;</th><th scope=col>&lt;fct&gt;</th><th scope=col>&lt;int&gt;</th><th scope=col>&lt;fct&gt;</th><th scope=col>&lt;fct&gt;</th><th scope=col>&lt;dbl&gt;</th><th scope=col>&lt;dbl&gt;</th><th scope=col>&lt;fct&gt;</th><th scope=col>&lt;fct&gt;</th><th scope=col>&lt;int&gt;</th><th scope=col>&lt;int&gt;</th></tr>\n",
       "</thead>\n",
       "<tbody>\n",
       "\t<tr><td>ERR011089</td><td>PRJEB2054</td><td>Metagenomics</td><td> 4190512</td><td>Denmark</td><td>Female</td><td>59</td><td>NA</td><td></td><td>D006262</td><td>1</td><td>1</td></tr>\n",
       "\t<tr><td>ERR011090</td><td>PRJEB2054</td><td>Metagenomics</td><td>11169067</td><td>Denmark</td><td>Female</td><td>59</td><td>NA</td><td></td><td>D006262</td><td>1</td><td>1</td></tr>\n",
       "\t<tr><td>ERR011091</td><td>PRJEB2054</td><td>Metagenomics</td><td> 7928489</td><td>Denmark</td><td>Female</td><td>59</td><td>NA</td><td></td><td>D006262</td><td>1</td><td>1</td></tr>\n",
       "\t<tr><td>ERR011092</td><td>PRJEB2054</td><td>Metagenomics</td><td> 4478452</td><td>Denmark</td><td>Male  </td><td>69</td><td>NA</td><td></td><td>D006262</td><td>1</td><td>1</td></tr>\n",
       "\t<tr><td>ERR011093</td><td>PRJEB2054</td><td>Metagenomics</td><td>10857325</td><td>Denmark</td><td>Male  </td><td>69</td><td>NA</td><td></td><td>D006262</td><td>1</td><td>1</td></tr>\n",
       "\t<tr><td>ERR011094</td><td>PRJEB2054</td><td>Metagenomics</td><td> 9858261</td><td>Denmark</td><td>Male  </td><td>69</td><td>NA</td><td></td><td>D006262</td><td>1</td><td>1</td></tr>\n",
       "</tbody>\n",
       "</table>\n"
      ],
      "text/latex": [
       "A data.frame: 6 × 12\n",
       "\\begin{tabular}{r|llllllllllll}\n",
       " Run.ID & Project.ID & Experiment.type & Nr..reads.sequenced & Country & Sex & Host.age & BMI & Recent.antibiotics.use & Disease.MESH.ID & Disease.name & QC.status\\\\\n",
       " <fct> & <fct> & <fct> & <int> & <fct> & <fct> & <dbl> & <dbl> & <fct> & <fct> & <int> & <int>\\\\\n",
       "\\hline\n",
       "\t ERR011089 & PRJEB2054 & Metagenomics &  4190512 & Denmark & Female & 59 & NA &  & D006262 & 1 & 1\\\\\n",
       "\t ERR011090 & PRJEB2054 & Metagenomics & 11169067 & Denmark & Female & 59 & NA &  & D006262 & 1 & 1\\\\\n",
       "\t ERR011091 & PRJEB2054 & Metagenomics &  7928489 & Denmark & Female & 59 & NA &  & D006262 & 1 & 1\\\\\n",
       "\t ERR011092 & PRJEB2054 & Metagenomics &  4478452 & Denmark & Male   & 69 & NA &  & D006262 & 1 & 1\\\\\n",
       "\t ERR011093 & PRJEB2054 & Metagenomics & 10857325 & Denmark & Male   & 69 & NA &  & D006262 & 1 & 1\\\\\n",
       "\t ERR011094 & PRJEB2054 & Metagenomics &  9858261 & Denmark & Male   & 69 & NA &  & D006262 & 1 & 1\\\\\n",
       "\\end{tabular}\n"
      ],
      "text/markdown": [
       "\n",
       "A data.frame: 6 × 12\n",
       "\n",
       "| Run.ID &lt;fct&gt; | Project.ID &lt;fct&gt; | Experiment.type &lt;fct&gt; | Nr..reads.sequenced &lt;int&gt; | Country &lt;fct&gt; | Sex &lt;fct&gt; | Host.age &lt;dbl&gt; | BMI &lt;dbl&gt; | Recent.antibiotics.use &lt;fct&gt; | Disease.MESH.ID &lt;fct&gt; | Disease.name &lt;int&gt; | QC.status &lt;int&gt; |\n",
       "|---|---|---|---|---|---|---|---|---|---|---|---|\n",
       "| ERR011089 | PRJEB2054 | Metagenomics |  4190512 | Denmark | Female | 59 | NA | <!----> | D006262 | 1 | 1 |\n",
       "| ERR011090 | PRJEB2054 | Metagenomics | 11169067 | Denmark | Female | 59 | NA | <!----> | D006262 | 1 | 1 |\n",
       "| ERR011091 | PRJEB2054 | Metagenomics |  7928489 | Denmark | Female | 59 | NA | <!----> | D006262 | 1 | 1 |\n",
       "| ERR011092 | PRJEB2054 | Metagenomics |  4478452 | Denmark | Male   | 69 | NA | <!----> | D006262 | 1 | 1 |\n",
       "| ERR011093 | PRJEB2054 | Metagenomics | 10857325 | Denmark | Male   | 69 | NA | <!----> | D006262 | 1 | 1 |\n",
       "| ERR011094 | PRJEB2054 | Metagenomics |  9858261 | Denmark | Male   | 69 | NA | <!----> | D006262 | 1 | 1 |\n",
       "\n"
      ],
      "text/plain": [
       "  Run.ID    Project.ID Experiment.type Nr..reads.sequenced Country Sex   \n",
       "1 ERR011089 PRJEB2054  Metagenomics     4190512            Denmark Female\n",
       "2 ERR011090 PRJEB2054  Metagenomics    11169067            Denmark Female\n",
       "3 ERR011091 PRJEB2054  Metagenomics     7928489            Denmark Female\n",
       "4 ERR011092 PRJEB2054  Metagenomics     4478452            Denmark Male  \n",
       "5 ERR011093 PRJEB2054  Metagenomics    10857325            Denmark Male  \n",
       "6 ERR011094 PRJEB2054  Metagenomics     9858261            Denmark Male  \n",
       "  Host.age BMI Recent.antibiotics.use Disease.MESH.ID Disease.name QC.status\n",
       "1 59       NA                         D006262         1            1        \n",
       "2 59       NA                         D006262         1            1        \n",
       "3 59       NA                         D006262         1            1        \n",
       "4 69       NA                         D006262         1            1        \n",
       "5 69       NA                         D006262         1            1        \n",
       "6 69       NA                         D006262         1            1        "
      ]
     },
     "metadata": {},
     "output_type": "display_data"
    }
   ],
   "source": [
    "head(sampledata)"
   ]
  },
  {
   "cell_type": "code",
   "execution_count": 79,
   "metadata": {},
   "outputs": [],
   "source": [
    "tax <- read.csv(file = 'metagenome/s_tax.csv')\n",
    "tax_head <-  c(\"Domain\", \"Phylum\", \"Class\", \"Order\", \"Family\", \"Genus\", \"Species\")\n",
    "taxtable <- separate(tax,scientific_name,tax_head, sep=';')\n",
    "otutable <- read.csv('metagenome/species_table.csv')"
   ]
  },
  {
   "cell_type": "code",
   "execution_count": 137,
   "metadata": {},
   "outputs": [],
   "source": [
    "treef <- './metagenome/s_tree9.nwk'\n",
    "healthIDs=c('D006262')\n",
    "\n",
    "for (diseaseID in metagenome_diseaseIDs) {\n",
    "  \n",
    "    outdir <- Sys.glob(paste0('./metagenome/diseases/',diseaseID,'_*/species/'))\n",
    "    meshIDs = append(diseaseID, healthIDs)\n",
    "    uc_phyloseq <- disease_project_physeq(otutable,\n",
    "                                          taxtable,\n",
    "                                          sampledata,\n",
    "                                          treef=treef,\n",
    "                                          outdir=outdir,\n",
    "                                          healthIDs=healthIDs,\n",
    "                                          meshIDs=meshIDs) \n",
    "  \n",
    "}"
   ]
  },
  {
   "cell_type": "markdown",
   "metadata": {},
   "source": [
    "# Amplicon"
   ]
  },
  {
   "cell_type": "markdown",
   "metadata": {},
   "source": [
    "## Amplicon  genus"
   ]
  },
  {
   "cell_type": "code",
   "execution_count": null,
   "metadata": {},
   "outputs": [],
   "source": [
    "agtax <- read.csv(file = 'amplicon/g_tax.xls',sep='\\t')\n",
    "agtax_head <-  c(\"Domain\", \"Phylum\", \"Class\", \"Order\", \"Family\", \"Genus\", \"Species\")\n",
    "agtaxtable <- separate(agtax,scientific_name,tax_head, sep=';')\n",
    "agotutable <- read.csv('amplicon/genus_table.csv')"
   ]
  },
  {
   "cell_type": "code",
   "execution_count": 184,
   "metadata": {},
   "outputs": [
    {
     "data": {
      "text/html": [
       "<table>\n",
       "<caption>A data.frame: 6 × 8</caption>\n",
       "<thead>\n",
       "\t<tr><th scope=col>ncbi_taxon_id</th><th scope=col>Domain</th><th scope=col>Phylum</th><th scope=col>Class</th><th scope=col>Order</th><th scope=col>Family</th><th scope=col>Genus</th><th scope=col>Species</th></tr>\n",
       "\t<tr><th scope=col>&lt;int&gt;</th><th scope=col>&lt;chr&gt;</th><th scope=col>&lt;chr&gt;</th><th scope=col>&lt;chr&gt;</th><th scope=col>&lt;chr&gt;</th><th scope=col>&lt;chr&gt;</th><th scope=col>&lt;chr&gt;</th><th scope=col>&lt;chr&gt;</th></tr>\n",
       "</thead>\n",
       "<tbody>\n",
       "\t<tr><td>10</td><td>k__Bacteria</td><td>p__Proteobacteria</td><td>c__Gammaproteobacteria       </td><td>o__Cellvibrionales    </td><td>f__Cellvibrionaceae  </td><td>g__Cellvibrio         </td><td>s__              </td></tr>\n",
       "\t<tr><td>18</td><td>k__Bacteria</td><td>p__Proteobacteria</td><td>c__delta/epsilon subdivisions</td><td>o__Deltaproteobacteria</td><td>f__Desulfuromonadales</td><td>g__Desulfuromonadaceae</td><td>s__Pelobacter    </td></tr>\n",
       "\t<tr><td>20</td><td>k__Bacteria</td><td>p__Proteobacteria</td><td>c__Alphaproteobacteria       </td><td>o__Caulobacterales    </td><td>f__Caulobacteraceae  </td><td>g__Phenylobacterium   </td><td>s__              </td></tr>\n",
       "\t<tr><td>22</td><td>k__Bacteria</td><td>p__Proteobacteria</td><td>c__Gammaproteobacteria       </td><td>o__Alteromonadales    </td><td>f__Shewanellaceae    </td><td>g__Shewanella         </td><td>s__              </td></tr>\n",
       "\t<tr><td>53</td><td>k__Bacteria</td><td>p__Proteobacteria</td><td>c__delta/epsilon subdivisions</td><td>o__Deltaproteobacteria</td><td>f__Myxococcales      </td><td>g__Nannocystineae     </td><td>s__Nannocystaceae</td></tr>\n",
       "\t<tr><td>75</td><td>k__Bacteria</td><td>p__Proteobacteria</td><td>c__Alphaproteobacteria       </td><td>o__Caulobacterales    </td><td>f__Caulobacteraceae  </td><td>g__Caulobacter        </td><td>s__              </td></tr>\n",
       "</tbody>\n",
       "</table>\n"
      ],
      "text/latex": [
       "A data.frame: 6 × 8\n",
       "\\begin{tabular}{r|llllllll}\n",
       " ncbi\\_taxon\\_id & Domain & Phylum & Class & Order & Family & Genus & Species\\\\\n",
       " <int> & <chr> & <chr> & <chr> & <chr> & <chr> & <chr> & <chr>\\\\\n",
       "\\hline\n",
       "\t 10 & k\\_\\_Bacteria & p\\_\\_Proteobacteria & c\\_\\_Gammaproteobacteria        & o\\_\\_Cellvibrionales     & f\\_\\_Cellvibrionaceae   & g\\_\\_Cellvibrio          & s\\_\\_              \\\\\n",
       "\t 18 & k\\_\\_Bacteria & p\\_\\_Proteobacteria & c\\_\\_delta/epsilon subdivisions & o\\_\\_Deltaproteobacteria & f\\_\\_Desulfuromonadales & g\\_\\_Desulfuromonadaceae & s\\_\\_Pelobacter    \\\\\n",
       "\t 20 & k\\_\\_Bacteria & p\\_\\_Proteobacteria & c\\_\\_Alphaproteobacteria        & o\\_\\_Caulobacterales     & f\\_\\_Caulobacteraceae   & g\\_\\_Phenylobacterium    & s\\_\\_              \\\\\n",
       "\t 22 & k\\_\\_Bacteria & p\\_\\_Proteobacteria & c\\_\\_Gammaproteobacteria        & o\\_\\_Alteromonadales     & f\\_\\_Shewanellaceae     & g\\_\\_Shewanella          & s\\_\\_              \\\\\n",
       "\t 53 & k\\_\\_Bacteria & p\\_\\_Proteobacteria & c\\_\\_delta/epsilon subdivisions & o\\_\\_Deltaproteobacteria & f\\_\\_Myxococcales       & g\\_\\_Nannocystineae      & s\\_\\_Nannocystaceae\\\\\n",
       "\t 75 & k\\_\\_Bacteria & p\\_\\_Proteobacteria & c\\_\\_Alphaproteobacteria        & o\\_\\_Caulobacterales     & f\\_\\_Caulobacteraceae   & g\\_\\_Caulobacter         & s\\_\\_              \\\\\n",
       "\\end{tabular}\n"
      ],
      "text/markdown": [
       "\n",
       "A data.frame: 6 × 8\n",
       "\n",
       "| ncbi_taxon_id &lt;int&gt; | Domain &lt;chr&gt; | Phylum &lt;chr&gt; | Class &lt;chr&gt; | Order &lt;chr&gt; | Family &lt;chr&gt; | Genus &lt;chr&gt; | Species &lt;chr&gt; |\n",
       "|---|---|---|---|---|---|---|---|\n",
       "| 10 | k__Bacteria | p__Proteobacteria | c__Gammaproteobacteria        | o__Cellvibrionales     | f__Cellvibrionaceae   | g__Cellvibrio          | s__               |\n",
       "| 18 | k__Bacteria | p__Proteobacteria | c__delta/epsilon subdivisions | o__Deltaproteobacteria | f__Desulfuromonadales | g__Desulfuromonadaceae | s__Pelobacter     |\n",
       "| 20 | k__Bacteria | p__Proteobacteria | c__Alphaproteobacteria        | o__Caulobacterales     | f__Caulobacteraceae   | g__Phenylobacterium    | s__               |\n",
       "| 22 | k__Bacteria | p__Proteobacteria | c__Gammaproteobacteria        | o__Alteromonadales     | f__Shewanellaceae     | g__Shewanella          | s__               |\n",
       "| 53 | k__Bacteria | p__Proteobacteria | c__delta/epsilon subdivisions | o__Deltaproteobacteria | f__Myxococcales       | g__Nannocystineae      | s__Nannocystaceae |\n",
       "| 75 | k__Bacteria | p__Proteobacteria | c__Alphaproteobacteria        | o__Caulobacterales     | f__Caulobacteraceae   | g__Caulobacter         | s__               |\n",
       "\n"
      ],
      "text/plain": [
       "  ncbi_taxon_id Domain      Phylum            Class                        \n",
       "1 10            k__Bacteria p__Proteobacteria c__Gammaproteobacteria       \n",
       "2 18            k__Bacteria p__Proteobacteria c__delta/epsilon subdivisions\n",
       "3 20            k__Bacteria p__Proteobacteria c__Alphaproteobacteria       \n",
       "4 22            k__Bacteria p__Proteobacteria c__Gammaproteobacteria       \n",
       "5 53            k__Bacteria p__Proteobacteria c__delta/epsilon subdivisions\n",
       "6 75            k__Bacteria p__Proteobacteria c__Alphaproteobacteria       \n",
       "  Order                  Family                Genus                 \n",
       "1 o__Cellvibrionales     f__Cellvibrionaceae   g__Cellvibrio         \n",
       "2 o__Deltaproteobacteria f__Desulfuromonadales g__Desulfuromonadaceae\n",
       "3 o__Caulobacterales     f__Caulobacteraceae   g__Phenylobacterium   \n",
       "4 o__Alteromonadales     f__Shewanellaceae     g__Shewanella         \n",
       "5 o__Deltaproteobacteria f__Myxococcales       g__Nannocystineae     \n",
       "6 o__Caulobacterales     f__Caulobacteraceae   g__Caulobacter        \n",
       "  Species          \n",
       "1 s__              \n",
       "2 s__Pelobacter    \n",
       "3 s__              \n",
       "4 s__              \n",
       "5 s__Nannocystaceae\n",
       "6 s__              "
      ]
     },
     "metadata": {},
     "output_type": "display_data"
    }
   ],
   "source": [
    "head(agtaxtable)"
   ]
  },
  {
   "cell_type": "code",
   "execution_count": 185,
   "metadata": {},
   "outputs": [
    {
     "data": {
      "text/html": [
       "<table>\n",
       "<caption>A data.frame: 6 × 12</caption>\n",
       "<thead>\n",
       "\t<tr><th scope=col>Run.ID</th><th scope=col>Project.ID</th><th scope=col>Experiment.type</th><th scope=col>Nr.reads.sequenced</th><th scope=col>Country</th><th scope=col>Sex</th><th scope=col>Host.age</th><th scope=col>BMI</th><th scope=col>Recent.antibiotics.use</th><th scope=col>Disease.MESH.ID</th><th scope=col>QC.status</th><th scope=col>Nr.associated.phenotypes</th></tr>\n",
       "\t<tr><th scope=col>&lt;fct&gt;</th><th scope=col>&lt;fct&gt;</th><th scope=col>&lt;fct&gt;</th><th scope=col>&lt;int&gt;</th><th scope=col>&lt;fct&gt;</th><th scope=col>&lt;fct&gt;</th><th scope=col>&lt;dbl&gt;</th><th scope=col>&lt;dbl&gt;</th><th scope=col>&lt;fct&gt;</th><th scope=col>&lt;fct&gt;</th><th scope=col>&lt;int&gt;</th><th scope=col>&lt;int&gt;</th></tr>\n",
       "</thead>\n",
       "<tbody>\n",
       "\t<tr><td>DRR049319</td><td>PRJDB4360</td><td>Amplicon</td><td>12954</td><td>Japan</td><td>Female</td><td>104</td><td>   NA</td><td></td><td>D006262</td><td>1</td><td>1</td></tr>\n",
       "\t<tr><td>DRR067938</td><td>PRJDB4998</td><td>Amplicon</td><td>36757</td><td>Japan</td><td>Female</td><td> 29</td><td>19.56</td><td></td><td>D006262</td><td>1</td><td>1</td></tr>\n",
       "\t<tr><td>DRR068126</td><td>PRJDB4998</td><td>Amplicon</td><td>25643</td><td>Japan</td><td>Male  </td><td> 84</td><td>19.04</td><td></td><td>D006262</td><td>1</td><td>1</td></tr>\n",
       "\t<tr><td>DRR068128</td><td>PRJDB4998</td><td>Amplicon</td><td>24410</td><td>Japan</td><td>Male  </td><td> 78</td><td>22.41</td><td></td><td>D006262</td><td>1</td><td>1</td></tr>\n",
       "\t<tr><td>DRR092034</td><td>PRJDB4360</td><td>Amplicon</td><td>   NA</td><td>Japan</td><td>      </td><td> NA</td><td>   NA</td><td></td><td>D006262</td><td>1</td><td>1</td></tr>\n",
       "\t<tr><td>DRR092042</td><td>PRJDB4360</td><td>Amplicon</td><td>   NA</td><td>Japan</td><td>      </td><td> NA</td><td>   NA</td><td></td><td>D006262</td><td>1</td><td>1</td></tr>\n",
       "</tbody>\n",
       "</table>\n"
      ],
      "text/latex": [
       "A data.frame: 6 × 12\n",
       "\\begin{tabular}{r|llllllllllll}\n",
       " Run.ID & Project.ID & Experiment.type & Nr.reads.sequenced & Country & Sex & Host.age & BMI & Recent.antibiotics.use & Disease.MESH.ID & QC.status & Nr.associated.phenotypes\\\\\n",
       " <fct> & <fct> & <fct> & <int> & <fct> & <fct> & <dbl> & <dbl> & <fct> & <fct> & <int> & <int>\\\\\n",
       "\\hline\n",
       "\t DRR049319 & PRJDB4360 & Amplicon & 12954 & Japan & Female & 104 &    NA &  & D006262 & 1 & 1\\\\\n",
       "\t DRR067938 & PRJDB4998 & Amplicon & 36757 & Japan & Female &  29 & 19.56 &  & D006262 & 1 & 1\\\\\n",
       "\t DRR068126 & PRJDB4998 & Amplicon & 25643 & Japan & Male   &  84 & 19.04 &  & D006262 & 1 & 1\\\\\n",
       "\t DRR068128 & PRJDB4998 & Amplicon & 24410 & Japan & Male   &  78 & 22.41 &  & D006262 & 1 & 1\\\\\n",
       "\t DRR092034 & PRJDB4360 & Amplicon &    NA & Japan &        &  NA &    NA &  & D006262 & 1 & 1\\\\\n",
       "\t DRR092042 & PRJDB4360 & Amplicon &    NA & Japan &        &  NA &    NA &  & D006262 & 1 & 1\\\\\n",
       "\\end{tabular}\n"
      ],
      "text/markdown": [
       "\n",
       "A data.frame: 6 × 12\n",
       "\n",
       "| Run.ID &lt;fct&gt; | Project.ID &lt;fct&gt; | Experiment.type &lt;fct&gt; | Nr.reads.sequenced &lt;int&gt; | Country &lt;fct&gt; | Sex &lt;fct&gt; | Host.age &lt;dbl&gt; | BMI &lt;dbl&gt; | Recent.antibiotics.use &lt;fct&gt; | Disease.MESH.ID &lt;fct&gt; | QC.status &lt;int&gt; | Nr.associated.phenotypes &lt;int&gt; |\n",
       "|---|---|---|---|---|---|---|---|---|---|---|---|\n",
       "| DRR049319 | PRJDB4360 | Amplicon | 12954 | Japan | Female | 104 |    NA | <!----> | D006262 | 1 | 1 |\n",
       "| DRR067938 | PRJDB4998 | Amplicon | 36757 | Japan | Female |  29 | 19.56 | <!----> | D006262 | 1 | 1 |\n",
       "| DRR068126 | PRJDB4998 | Amplicon | 25643 | Japan | Male   |  84 | 19.04 | <!----> | D006262 | 1 | 1 |\n",
       "| DRR068128 | PRJDB4998 | Amplicon | 24410 | Japan | Male   |  78 | 22.41 | <!----> | D006262 | 1 | 1 |\n",
       "| DRR092034 | PRJDB4360 | Amplicon |    NA | Japan | <!----> |  NA |    NA | <!----> | D006262 | 1 | 1 |\n",
       "| DRR092042 | PRJDB4360 | Amplicon |    NA | Japan | <!----> |  NA |    NA | <!----> | D006262 | 1 | 1 |\n",
       "\n"
      ],
      "text/plain": [
       "  Run.ID    Project.ID Experiment.type Nr.reads.sequenced Country Sex   \n",
       "1 DRR049319 PRJDB4360  Amplicon        12954              Japan   Female\n",
       "2 DRR067938 PRJDB4998  Amplicon        36757              Japan   Female\n",
       "3 DRR068126 PRJDB4998  Amplicon        25643              Japan   Male  \n",
       "4 DRR068128 PRJDB4998  Amplicon        24410              Japan   Male  \n",
       "5 DRR092034 PRJDB4360  Amplicon           NA              Japan         \n",
       "6 DRR092042 PRJDB4360  Amplicon           NA              Japan         \n",
       "  Host.age BMI   Recent.antibiotics.use Disease.MESH.ID QC.status\n",
       "1 104         NA                        D006262         1        \n",
       "2  29      19.56                        D006262         1        \n",
       "3  84      19.04                        D006262         1        \n",
       "4  78      22.41                        D006262         1        \n",
       "5  NA         NA                        D006262         1        \n",
       "6  NA         NA                        D006262         1        \n",
       "  Nr.associated.phenotypes\n",
       "1 1                       \n",
       "2 1                       \n",
       "3 1                       \n",
       "4 1                       \n",
       "5 1                       \n",
       "6 1                       "
      ]
     },
     "metadata": {},
     "output_type": "display_data"
    }
   ],
   "source": [
    "head(sampledata)"
   ]
  },
  {
   "cell_type": "code",
   "execution_count": 144,
   "metadata": {},
   "outputs": [],
   "source": [
    "asampledata <- read.table('amplicon/user_selected_run_list_edit.txt',sep='\\t',header=T)\n",
    "adiseaseIDs <- disease$disease[!disease$disease=='D006262' ]\n",
    "sampledata<- asampledata[!is.na(asampledata$Disease.MESH.ID),] # del NA rows\n",
    "sampledata <- unique(sampledata) #有重复行\n",
    "agenus_disease <- sampledata$Disease.MESH.ID[sampledata$Disease.MESH.ID %in% adiseaseIDs & (sampledata$Run.ID %in% colnames(agotutable)[-1])]\n",
    "write.table(unique(agenus_disease),'Amplicon_otutable_diseaseIDs.tsv',quote = F,col.names = F)"
   ]
  },
  {
   "cell_type": "code",
   "execution_count": 204,
   "metadata": {},
   "outputs": [
    {
     "data": {
      "text/html": [
       "<ol class=list-inline>\n",
       "\t<li>19179</li>\n",
       "\t<li>12</li>\n",
       "</ol>\n"
      ],
      "text/latex": [
       "\\begin{enumerate*}\n",
       "\\item 19179\n",
       "\\item 12\n",
       "\\end{enumerate*}\n"
      ],
      "text/markdown": [
       "1. 19179\n",
       "2. 12\n",
       "\n",
       "\n"
      ],
      "text/plain": [
       "[1] 19179    12"
      ]
     },
     "metadata": {},
     "output_type": "display_data"
    }
   ],
   "source": [
    "dim(sampledata)"
   ]
  },
  {
   "cell_type": "code",
   "execution_count": 156,
   "metadata": {},
   "outputs": [],
   "source": [
    "amplicon_diseaseIDs<- unique(agenus_disease)"
   ]
  },
  {
   "cell_type": "code",
   "execution_count": 202,
   "metadata": {},
   "outputs": [],
   "source": [
    "duplicate_rownames <- c('ERR1075808', 'ERR1089893', 'ERR1090018', 'ERR1090266', 'ERR1090428', 'ERR1160595', 'ERR1160700', 'ERR1249859', 'ERR1250525', 'ERR1389830', 'ERR2032593', 'ERR2032823', 'ERR2032859', 'ERR2056811', 'ERR2057225', 'ERR2091879')\n",
    "# sampledata[sampledata$Run.ID %in% duplicate_rownames,]\n",
    "sampledata <- sampledata[! sampledata$Run.ID %in% duplicate_rownames,] #不能确定到底属于哪个疾病or健康，都删去\n",
    "write.table(sampledata,'amplicon/amplicon_metadata.uniq.xls',quote = F,col.names = T,row.names = F,sep='\\t')"
   ]
  },
  {
   "cell_type": "code",
   "execution_count": 203,
   "metadata": {},
   "outputs": [],
   "source": [
    "treef <- './amplicon/g_tree9.nwk'\n",
    "healthIDs=c('D006262')\n",
    "\n",
    "for (diseaseID in amplicon_diseaseIDs) {\n",
    "  \n",
    "    outdir <- Sys.glob(paste0('./amplicon/diseases/',diseaseID,'_*/genus/'))\n",
    "    meshIDs = append(diseaseID, healthIDs)\n",
    "    uc_phyloseq <- disease_project_physeq(agotutable,\n",
    "                                          agtaxtable,\n",
    "                                          sampledata,\n",
    "                                          treef=treef,\n",
    "                                          outdir=outdir,\n",
    "                                          healthIDs=healthIDs,\n",
    "                                          meshIDs=meshIDs) \n",
    "}"
   ]
  },
  {
   "cell_type": "markdown",
   "metadata": {},
   "source": [
    "## Amplicon  species"
   ]
  },
  {
   "cell_type": "code",
   "execution_count": null,
   "metadata": {},
   "outputs": [],
   "source": [
    "astax <- read.csv(file = 'amplicon/s_tax.xls',sep='\\t')\n",
    "astax_head <-  c(\"Domain\", \"Phylum\", \"Class\", \"Order\", \"Family\", \"Genus\", \"Species\")\n",
    "astaxtable <- separate(astax,scientific_name,tax_head, sep=';')\n",
    "asotutable <- read.csv('amplicon/species_table.csv')"
   ]
  },
  {
   "cell_type": "code",
   "execution_count": 248,
   "metadata": {},
   "outputs": [],
   "source": [
    "treef <- './amplicon/s_tree91.nwk'  #without sci_name then can be read in R\n",
    "healthIDs=c('D006262')\n",
    "\n",
    "for (diseaseID in amplicon_diseaseIDs) {\n",
    "  \n",
    "    outdir <- Sys.glob(paste0('./amplicon/diseases/',diseaseID,'_*/species/'))\n",
    "    meshIDs = append(diseaseID, healthIDs)\n",
    "    uc_phyloseq <- disease_project_physeq(asotutable,\n",
    "                                          astaxtable,\n",
    "                                          sampledata,\n",
    "                                          treef=treef,\n",
    "                                          outdir=outdir,\n",
    "                                          healthIDs=healthIDs,\n",
    "                                          meshIDs=meshIDs) \n",
    "}"
   ]
  },
  {
   "cell_type": "markdown",
   "metadata": {},
   "source": [
    "## Keep only samples to be analyzed\n",
    "\n"
   ]
  },
  {
   "cell_type": "markdown",
   "metadata": {},
   "source": [
    "目录下会生成r.data 上传shiny-phyloseq server交互分析。\n"
   ]
  },
  {
   "cell_type": "code",
   "execution_count": 288,
   "metadata": {},
   "outputs": [],
   "source": [
    "# genus_tree <- read_tree('metagenome/genus_tree.nw')\n",
    "# uc_tree_phyloseq = merge_phyloseq(uc_phyloseq, genus_tree)\n",
    "# merge tree 会自动过滤不存在的node"
   ]
  },
  {
   "cell_type": "code",
   "execution_count": 154,
   "metadata": {},
   "outputs": [
    {
     "data": {
      "text/plain": [
       "phyloseq-class experiment-level object\n",
       "otu_table()   OTU Table:         [ 78 taxa and 1066 samples ]\n",
       "sample_data() Sample Data:       [ 1066 samples by 12 sample variables ]\n",
       "tax_table()   Taxonomy Table:    [ 78 taxa by 7 taxonomic ranks ]\n",
       "phy_tree()    Phylogenetic Tree: [ 78 tips and 37 internal nodes ]"
      ]
     },
     "metadata": {},
     "output_type": "display_data"
    }
   ],
   "source": [
    "uc_phyloseq"
   ]
  },
  {
   "cell_type": "code",
   "execution_count": 402,
   "metadata": {},
   "outputs": [],
   "source": []
  },
  {
   "cell_type": "code",
   "execution_count": null,
   "metadata": {},
   "outputs": [],
   "source": []
  }
 ],
 "metadata": {
  "kernelspec": {
   "display_name": "R",
   "language": "R",
   "name": "ir"
  },
  "language_info": {
   "codemirror_mode": "r",
   "file_extension": ".r",
   "mimetype": "text/x-r-source",
   "name": "R",
   "pygments_lexer": "r",
   "version": "3.6.1"
  }
 },
 "nbformat": 4,
 "nbformat_minor": 2
}
