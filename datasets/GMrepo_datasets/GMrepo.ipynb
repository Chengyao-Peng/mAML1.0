{
 "cells": [
  {
   "cell_type": "markdown",
   "metadata": {},
   "source": [
    "# [Access to GMrepo using python through RESTful APIs](https://github.com/evolgeniusteam/GMrepoProgrammableAccess/blob/master/programmable-access/python.md)"
   ]
  },
  {
   "cell_type": "code",
   "execution_count": 1,
   "metadata": {},
   "outputs": [],
   "source": [
    "import requests\n",
    "import json\n",
    "from pandas.core.frame import DataFrame\n",
    "import pandas as pd\n",
    "import numpy as np"
   ]
  },
  {
   "cell_type": "markdown",
   "metadata": {},
   "source": [
    "## Phenotypes\n",
    "Get all phenotypes and statistics"
   ]
  },
  {
   "cell_type": "code",
   "execution_count": 121,
   "metadata": {},
   "outputs": [],
   "source": [
    "### -- get all phenotypes  --\n",
    "url = 'https://gmrepo.humangut.info/api/get_all_phenotypes'\n",
    "pheno_01 = requests.post(url, data={})\n",
    "pheno_01_cont = pheno_01.json().get('phenotypes')\n",
    "\n",
    "## -- a DateFrame --\n",
    "phenotypes = DataFrame(pheno_01_cont)\n",
    "phenotypes.head()"
   ]
  },
  {
   "cell_type": "markdown",
   "metadata": {},
   "source": [
    " # MeSH ID  Vs disease"
   ]
  },
  {
   "cell_type": "code",
   "execution_count": 123,
   "metadata": {},
   "outputs": [],
   "source": [
    "phenotypes[['disease','term','note']].to_csv('meshID_phenotypes.csv') #MeSH ID\n"
   ]
  },
  {
   "cell_type": "code",
   "execution_count": 3,
   "metadata": {},
   "outputs": [
    {
     "data": {
      "text/html": [
       "<div>\n",
       "<style scoped>\n",
       "    .dataframe tbody tr th:only-of-type {\n",
       "        vertical-align: middle;\n",
       "    }\n",
       "\n",
       "    .dataframe tbody tr th {\n",
       "        vertical-align: top;\n",
       "    }\n",
       "\n",
       "    .dataframe thead th {\n",
       "        text-align: right;\n",
       "    }\n",
       "</style>\n",
       "<table border=\"1\" class=\"dataframe\">\n",
       "  <thead>\n",
       "    <tr style=\"text-align: right;\">\n",
       "      <th></th>\n",
       "      <th>disease</th>\n",
       "      <th>term</th>\n",
       "      <th>note</th>\n",
       "    </tr>\n",
       "  </thead>\n",
       "  <tbody>\n",
       "    <tr>\n",
       "      <th>0</th>\n",
       "      <td>C537163</td>\n",
       "      <td>Pediatric Autoimmune Neuropsychiatric Disorder...</td>\n",
       "      <td>OBSESSIVE-COMPULSIVE DISORDER and TIC DISORDER...</td>\n",
       "    </tr>\n",
       "    <tr>\n",
       "      <th>1</th>\n",
       "      <td>D000067011</td>\n",
       "      <td>Severe Acute Malnutrition</td>\n",
       "      <td>Acute form of MALNUTRITION which usually affec...</td>\n",
       "    </tr>\n",
       "    <tr>\n",
       "      <th>2</th>\n",
       "      <td>D000067877</td>\n",
       "      <td>Autism Spectrum Disorder</td>\n",
       "      <td>Wide continuum of associated cognitive and neu...</td>\n",
       "    </tr>\n",
       "    <tr>\n",
       "      <th>3</th>\n",
       "      <td>D000236</td>\n",
       "      <td>Adenoma</td>\n",
       "      <td>A benign epithelial tumor with a glandular org...</td>\n",
       "    </tr>\n",
       "    <tr>\n",
       "      <th>4</th>\n",
       "      <td>D000544</td>\n",
       "      <td>Alzheimer Disease</td>\n",
       "      <td>A degenerative disease of the BRAIN characteri...</td>\n",
       "    </tr>\n",
       "  </tbody>\n",
       "</table>\n",
       "</div>"
      ],
      "text/plain": [
       "      disease                                               term  \\\n",
       "0     C537163  Pediatric Autoimmune Neuropsychiatric Disorder...   \n",
       "1  D000067011                          Severe Acute Malnutrition   \n",
       "2  D000067877                           Autism Spectrum Disorder   \n",
       "3     D000236                                            Adenoma   \n",
       "4     D000544                                  Alzheimer Disease   \n",
       "\n",
       "                                                note  \n",
       "0  OBSESSIVE-COMPULSIVE DISORDER and TIC DISORDER...  \n",
       "1  Acute form of MALNUTRITION which usually affec...  \n",
       "2  Wide continuum of associated cognitive and neu...  \n",
       "3  A benign epithelial tumor with a glandular org...  \n",
       "4  A degenerative disease of the BRAIN characteri...  "
      ]
     },
     "execution_count": 3,
     "metadata": {},
     "output_type": "execute_result"
    }
   ],
   "source": [
    "import pandas as pd\n",
    "diseasef='./meshID_phenotypes.csv'\n",
    "disease = pd.read_csv(diseasef,comment='#',index_col=0)\n",
    "disease.head()\n",
    "#疾病名字太长，用meshid"
   ]
  },
  {
   "cell_type": "code",
   "execution_count": 4,
   "metadata": {},
   "outputs": [],
   "source": [
    "def replaceMany(orig_str, substring_list, new_str):\n",
    "    # Traverse the substring list to replace\n",
    "    for string in substring_list :\n",
    "        # Test if string exists in the original string\n",
    "        if string in orig_str :\n",
    "            # Replace the string\n",
    "            orig_str = orig_str.replace(string, new_str)\n",
    "    return orig_str\n",
    "\n",
    "disease.term  = [replaceMany(s,[' ',',','__'] ,'_') for s in disease.term]"
   ]
  },
  {
   "cell_type": "code",
   "execution_count": 5,
   "metadata": {},
   "outputs": [
    {
     "data": {
      "text/html": [
       "<div>\n",
       "<style scoped>\n",
       "    .dataframe tbody tr th:only-of-type {\n",
       "        vertical-align: middle;\n",
       "    }\n",
       "\n",
       "    .dataframe tbody tr th {\n",
       "        vertical-align: top;\n",
       "    }\n",
       "\n",
       "    .dataframe thead th {\n",
       "        text-align: right;\n",
       "    }\n",
       "</style>\n",
       "<table border=\"1\" class=\"dataframe\">\n",
       "  <thead>\n",
       "    <tr style=\"text-align: right;\">\n",
       "      <th></th>\n",
       "      <th>disease</th>\n",
       "      <th>term</th>\n",
       "      <th>note</th>\n",
       "    </tr>\n",
       "  </thead>\n",
       "  <tbody>\n",
       "    <tr>\n",
       "      <th>0</th>\n",
       "      <td>C537163</td>\n",
       "      <td>Pediatric_Autoimmune_Neuropsychiatric_Disorder...</td>\n",
       "      <td>OBSESSIVE-COMPULSIVE DISORDER and TIC DISORDER...</td>\n",
       "    </tr>\n",
       "    <tr>\n",
       "      <th>1</th>\n",
       "      <td>D000067011</td>\n",
       "      <td>Severe_Acute_Malnutrition</td>\n",
       "      <td>Acute form of MALNUTRITION which usually affec...</td>\n",
       "    </tr>\n",
       "    <tr>\n",
       "      <th>2</th>\n",
       "      <td>D000067877</td>\n",
       "      <td>Autism_Spectrum_Disorder</td>\n",
       "      <td>Wide continuum of associated cognitive and neu...</td>\n",
       "    </tr>\n",
       "    <tr>\n",
       "      <th>3</th>\n",
       "      <td>D000236</td>\n",
       "      <td>Adenoma</td>\n",
       "      <td>A benign epithelial tumor with a glandular org...</td>\n",
       "    </tr>\n",
       "    <tr>\n",
       "      <th>4</th>\n",
       "      <td>D000544</td>\n",
       "      <td>Alzheimer_Disease</td>\n",
       "      <td>A degenerative disease of the BRAIN characteri...</td>\n",
       "    </tr>\n",
       "  </tbody>\n",
       "</table>\n",
       "</div>"
      ],
      "text/plain": [
       "      disease                                               term  \\\n",
       "0     C537163  Pediatric_Autoimmune_Neuropsychiatric_Disorder...   \n",
       "1  D000067011                          Severe_Acute_Malnutrition   \n",
       "2  D000067877                           Autism_Spectrum_Disorder   \n",
       "3     D000236                                            Adenoma   \n",
       "4     D000544                                  Alzheimer_Disease   \n",
       "\n",
       "                                                note  \n",
       "0  OBSESSIVE-COMPULSIVE DISORDER and TIC DISORDER...  \n",
       "1  Acute form of MALNUTRITION which usually affec...  \n",
       "2  Wide continuum of associated cognitive and neu...  \n",
       "3  A benign epithelial tumor with a glandular org...  \n",
       "4  A degenerative disease of the BRAIN characteri...  "
      ]
     },
     "execution_count": 5,
     "metadata": {},
     "output_type": "execute_result"
    }
   ],
   "source": [
    "disease.head()"
   ]
  },
  {
   "cell_type": "code",
   "execution_count": 31,
   "metadata": {},
   "outputs": [],
   "source": [
    "# disease\n",
    "disease.to_csv('meshID_phenotypes_.csv',index=False) "
   ]
  },
  {
   "cell_type": "markdown",
   "metadata": {},
   "source": [
    "# mkdirs"
   ]
  },
  {
   "cell_type": "code",
   "execution_count": 94,
   "metadata": {},
   "outputs": [],
   "source": [
    "seq = ['metagenome','amplicon']\n",
    "tax = ['genus', 'species']"
   ]
  },
  {
   "cell_type": "code",
   "execution_count": 95,
   "metadata": {},
   "outputs": [],
   "source": [
    "outdir ='./' \n",
    "from pathlib import Path\n",
    "repo = Path(outdir)"
   ]
  },
  {
   "cell_type": "code",
   "execution_count": 7,
   "metadata": {},
   "outputs": [
    {
     "data": {
      "text/html": [
       "<div>\n",
       "<style scoped>\n",
       "    .dataframe tbody tr th:only-of-type {\n",
       "        vertical-align: middle;\n",
       "    }\n",
       "\n",
       "    .dataframe tbody tr th {\n",
       "        vertical-align: top;\n",
       "    }\n",
       "\n",
       "    .dataframe thead th {\n",
       "        text-align: right;\n",
       "    }\n",
       "</style>\n",
       "<table border=\"1\" class=\"dataframe\">\n",
       "  <thead>\n",
       "    <tr style=\"text-align: right;\">\n",
       "      <th></th>\n",
       "      <th>1</th>\n",
       "    </tr>\n",
       "    <tr>\n",
       "      <th>0</th>\n",
       "      <th></th>\n",
       "    </tr>\n",
       "  </thead>\n",
       "  <tbody>\n",
       "    <tr>\n",
       "      <th>1</th>\n",
       "      <td>D009765</td>\n",
       "    </tr>\n",
       "    <tr>\n",
       "      <th>2</th>\n",
       "      <td>D009767</td>\n",
       "    </tr>\n",
       "    <tr>\n",
       "      <th>3</th>\n",
       "      <td>D006973</td>\n",
       "    </tr>\n",
       "    <tr>\n",
       "      <th>4</th>\n",
       "      <td>D007234</td>\n",
       "    </tr>\n",
       "    <tr>\n",
       "      <th>5</th>\n",
       "      <td>D000755</td>\n",
       "    </tr>\n",
       "  </tbody>\n",
       "</table>\n",
       "</div>"
      ],
      "text/plain": [
       "         1\n",
       "0         \n",
       "1  D009765\n",
       "2  D009767\n",
       "3  D006973\n",
       "4  D007234\n",
       "5  D000755"
      ]
     },
     "execution_count": 7,
     "metadata": {},
     "output_type": "execute_result"
    }
   ],
   "source": [
    "mdiseasef='./metagenome_otutable_diseaseIDs.tsv'\n",
    "mdisease = pd.read_csv(mdiseasef,comment='#',index_col=0,header=None,sep='\\s')\n",
    "mdisease.head()\n",
    "#疾病名字太长，还是用meshid\n",
    "# metadata不修改了"
   ]
  },
  {
   "cell_type": "code",
   "execution_count": null,
   "metadata": {},
   "outputs": [],
   "source": []
  },
  {
   "cell_type": "code",
   "execution_count": 97,
   "metadata": {},
   "outputs": [],
   "source": [
    "for id in mdisease.iloc[:,0].values:\n",
    "    '''有的疾病没有metagenome数据，不需要mkdir，有的没有amplicom数据不需要mkdir'''\n",
    "    term = disease[disease['disease']==id]['term'].values[0]\n",
    "    dis_dir = id + '_' + term.replace(' ','_')[:20]\n",
    "    path = repo.joinpath(seq[0],'diseases',dis_dir,tax[1])\n",
    "    if not path.is_dir(): \n",
    "        path.mkdir(exist_ok=False,parents=True)"
   ]
  },
  {
   "cell_type": "code",
   "execution_count": null,
   "metadata": {},
   "outputs": [],
   "source": [
    "adiseasef='./Amplicon_otutable_diseaseIDs.tsv'\n",
    "adisease = pd.read_csv(adiseasef,comment='#',index_col=0,sep='\\s',header=None)\n",
    "#疾病名字太长，还是用meshid\n",
    "# metadata不修改了"
   ]
  },
  {
   "cell_type": "code",
   "execution_count": null,
   "metadata": {},
   "outputs": [],
   "source": []
  },
  {
   "cell_type": "code",
   "execution_count": 107,
   "metadata": {},
   "outputs": [],
   "source": [
    "for id in adisease.iloc[:,0].values:\n",
    "    '''有的疾病没有metagenome数据，不需要mkdir，有的没有amplicom数据不需要mkdir'''\n",
    "    term = disease[disease['disease']==id]['term'].values[0]\n",
    "    dis_dir = id + '_' + term.replace(' ','_')[:20]\n",
    "    path = repo.joinpath(seq[1],'diseases',dis_dir,tax[0])\n",
    "    if not path.is_dir(): \n",
    "        path.mkdir(exist_ok=False,parents=True)"
   ]
  },
  {
   "cell_type": "markdown",
   "metadata": {},
   "source": [
    "# map file for each sample/runid\n",
    "\n",
    "download metadata for all metagenome samples\n",
    "\n",
    "https://gmrepo.humangut.info/home\n",
    "\n",
    "Query logic: ( experiment_type = 'Metagenomics' AND QCStatus = 1 )\n",
    "\n",
    "user_selected_run_list_all_disease_metagenomics_goodruns.txt"
   ]
  },
  {
   "cell_type": "code",
   "execution_count": 5,
   "metadata": {},
   "outputs": [
    {
     "data": {
      "text/html": [
       "<div>\n",
       "<style scoped>\n",
       "    .dataframe tbody tr th:only-of-type {\n",
       "        vertical-align: middle;\n",
       "    }\n",
       "\n",
       "    .dataframe tbody tr th {\n",
       "        vertical-align: top;\n",
       "    }\n",
       "\n",
       "    .dataframe thead th {\n",
       "        text-align: right;\n",
       "    }\n",
       "</style>\n",
       "<table border=\"1\" class=\"dataframe\">\n",
       "  <thead>\n",
       "    <tr style=\"text-align: right;\">\n",
       "      <th></th>\n",
       "      <th>Run ID</th>\n",
       "      <th>Project ID</th>\n",
       "      <th>Experiment type</th>\n",
       "      <th>Nr. reads sequenced</th>\n",
       "      <th>Country</th>\n",
       "      <th>Sex</th>\n",
       "      <th>Host age</th>\n",
       "      <th>BMI</th>\n",
       "      <th>Recent antibiotics use</th>\n",
       "      <th>Disease MESH ID</th>\n",
       "      <th>Disease name</th>\n",
       "      <th>QC status</th>\n",
       "      <th>Nr. associated phenotypes</th>\n",
       "    </tr>\n",
       "  </thead>\n",
       "  <tbody>\n",
       "    <tr>\n",
       "      <th>0</th>\n",
       "      <td>ERR011089</td>\n",
       "      <td>PRJEB2054</td>\n",
       "      <td>Metagenomics</td>\n",
       "      <td>4190512.0</td>\n",
       "      <td>Denmark</td>\n",
       "      <td>Female</td>\n",
       "      <td>59.0</td>\n",
       "      <td>NaN</td>\n",
       "      <td>NaN</td>\n",
       "      <td>D006262</td>\n",
       "      <td>1</td>\n",
       "      <td>1</td>\n",
       "      <td>NaN</td>\n",
       "    </tr>\n",
       "    <tr>\n",
       "      <th>1</th>\n",
       "      <td>ERR011090</td>\n",
       "      <td>PRJEB2054</td>\n",
       "      <td>Metagenomics</td>\n",
       "      <td>11169067.0</td>\n",
       "      <td>Denmark</td>\n",
       "      <td>Female</td>\n",
       "      <td>59.0</td>\n",
       "      <td>NaN</td>\n",
       "      <td>NaN</td>\n",
       "      <td>D006262</td>\n",
       "      <td>1</td>\n",
       "      <td>1</td>\n",
       "      <td>NaN</td>\n",
       "    </tr>\n",
       "    <tr>\n",
       "      <th>2</th>\n",
       "      <td>ERR011091</td>\n",
       "      <td>PRJEB2054</td>\n",
       "      <td>Metagenomics</td>\n",
       "      <td>7928489.0</td>\n",
       "      <td>Denmark</td>\n",
       "      <td>Female</td>\n",
       "      <td>59.0</td>\n",
       "      <td>NaN</td>\n",
       "      <td>NaN</td>\n",
       "      <td>D006262</td>\n",
       "      <td>1</td>\n",
       "      <td>1</td>\n",
       "      <td>NaN</td>\n",
       "    </tr>\n",
       "    <tr>\n",
       "      <th>3</th>\n",
       "      <td>ERR011092</td>\n",
       "      <td>PRJEB2054</td>\n",
       "      <td>Metagenomics</td>\n",
       "      <td>4478452.0</td>\n",
       "      <td>Denmark</td>\n",
       "      <td>Male</td>\n",
       "      <td>69.0</td>\n",
       "      <td>NaN</td>\n",
       "      <td>NaN</td>\n",
       "      <td>D006262</td>\n",
       "      <td>1</td>\n",
       "      <td>1</td>\n",
       "      <td>NaN</td>\n",
       "    </tr>\n",
       "    <tr>\n",
       "      <th>4</th>\n",
       "      <td>ERR011093</td>\n",
       "      <td>PRJEB2054</td>\n",
       "      <td>Metagenomics</td>\n",
       "      <td>10857325.0</td>\n",
       "      <td>Denmark</td>\n",
       "      <td>Male</td>\n",
       "      <td>69.0</td>\n",
       "      <td>NaN</td>\n",
       "      <td>NaN</td>\n",
       "      <td>D006262</td>\n",
       "      <td>1</td>\n",
       "      <td>1</td>\n",
       "      <td>NaN</td>\n",
       "    </tr>\n",
       "  </tbody>\n",
       "</table>\n",
       "</div>"
      ],
      "text/plain": [
       "      Run ID Project ID Experiment type  Nr. reads sequenced  Country     Sex  \\\n",
       "0  ERR011089  PRJEB2054    Metagenomics            4190512.0  Denmark  Female   \n",
       "1  ERR011090  PRJEB2054    Metagenomics           11169067.0  Denmark  Female   \n",
       "2  ERR011091  PRJEB2054    Metagenomics            7928489.0  Denmark  Female   \n",
       "3  ERR011092  PRJEB2054    Metagenomics            4478452.0  Denmark    Male   \n",
       "4  ERR011093  PRJEB2054    Metagenomics           10857325.0  Denmark    Male   \n",
       "\n",
       "   Host age  BMI Recent antibiotics use Disease MESH ID  Disease name  \\\n",
       "0      59.0  NaN                    NaN         D006262             1   \n",
       "1      59.0  NaN                    NaN         D006262             1   \n",
       "2      59.0  NaN                    NaN         D006262             1   \n",
       "3      69.0  NaN                    NaN         D006262             1   \n",
       "4      69.0  NaN                    NaN         D006262             1   \n",
       "\n",
       "   QC status  Nr. associated phenotypes  \n",
       "0          1                        NaN  \n",
       "1          1                        NaN  \n",
       "2          1                        NaN  \n",
       "3          1                        NaN  \n",
       "4          1                        NaN  "
      ]
     },
     "execution_count": 5,
     "metadata": {},
     "output_type": "execute_result"
    }
   ],
   "source": [
    "all_meta_samples='./metagenome/user_selected_run_list_all_disease_metagenomics_goodruns.txt'\n",
    "all_meta_samples_ids = pd.read_csv(all_meta_samples,sep='\\t',comment='#')\n",
    "all_meta_samples_ids.head()"
   ]
  },
  {
   "cell_type": "code",
   "execution_count": 72,
   "metadata": {},
   "outputs": [],
   "source": [
    "all_samples_metagenome_metadata = all_meta_samples_ids[['Run ID','Project ID','Country','Sex','Host age','BMI','Recent antibiotics use','Disease MESH ID']].drop_duplicates() #samples with metadata imformation"
   ]
  },
  {
   "cell_type": "code",
   "execution_count": 75,
   "metadata": {},
   "outputs": [],
   "source": [
    "meta_mf=all_samples_metagenome_metadata.set_index('Run ID').loc[species_df.RunID.unique(),:]# #interset with genus samples"
   ]
  },
  {
   "cell_type": "code",
   "execution_count": 76,
   "metadata": {},
   "outputs": [],
   "source": [
    "meta_samples = meta_mf.index.unique().values"
   ]
  },
  {
   "cell_type": "code",
   "execution_count": 81,
   "metadata": {},
   "outputs": [
    {
     "data": {
      "text/plain": [
       "(12109, 7)"
      ]
     },
     "execution_count": 81,
     "metadata": {},
     "output_type": "execute_result"
    }
   ],
   "source": [
    "meta_mf.shape"
   ]
  },
  {
   "cell_type": "markdown",
   "metadata": {},
   "source": [
    "# Get relative species/genus abundances in samples/runs associated with a phenotype\n",
    "\n",
    "To get the related information, two input parameters are required:\n",
    "\n",
    "MeSH ID of interests, e.g. D003093 for Colitis, Ulcerative"
   ]
  },
  {
   "cell_type": "code",
   "execution_count": 97,
   "metadata": {},
   "outputs": [],
   "source": [
    "url = 'https://gmrepo.humangut.info/api/getRunDetailsByRunID'\n",
    "all_run_ids = meta_samples\n",
    "\n",
    "def getRunDetailsByRunID(url, all_run_ids,outdir):\n",
    "    species_df =  DataFrame()\n",
    "    genus_df = DataFrame()\n",
    "\n",
    "    for id in all_run_ids:\n",
    "        query = {\"run_id\":id} \n",
    "        data = requests.post(url, data=json.dumps(query)).json()\n",
    "\n",
    "        ## --get DataFrames\n",
    "        species = DataFrame(data.get(\"species\"))\n",
    "        species[\"RunID\"] = id\n",
    "        species_df = pd.concat([species_df, species], axis=0, ignore_index=True)\n",
    "        \n",
    "        genus = DataFrame(data.get(\"genus\"))\n",
    "        genus[\"RunID\"] = id\n",
    "        genus_df = pd.concat([genus_df, genus], axis=0, ignore_index=True)\n",
    "\n",
    "\n",
    "    # all species with amplicon species\n",
    "    species_df.to_csv('./{}/all_sample_species_relative_abundance.csv'.format(outdir), index=False)\n",
    "    genus_df.to_csv('./{}/all_sample_genus_relative_abundance.csv'.format(outdir), index=False)\n",
    "    return species_df,  genus_df"
   ]
  },
  {
   "cell_type": "markdown",
   "metadata": {},
   "source": [
    "## metagenome"
   ]
  },
  {
   "cell_type": "code",
   "execution_count": 12,
   "metadata": {},
   "outputs": [],
   "source": [
    "import pandas as pd\n",
    "species_df = pd.read_csv('./metagenome/all_sample_species_relative_abundance.csv')\n",
    "genus_df =  pd.read_csv('./metagenome/all_sample_genus_relative_abundance.csv') \n"
   ]
  },
  {
   "cell_type": "markdown",
   "metadata": {},
   "source": [
    "\n",
    "### Delete unkown (-1) and Others (0) for they are not meaningful features, drop_duplicates\n"
   ]
  },
  {
   "cell_type": "code",
   "execution_count": 13,
   "metadata": {},
   "outputs": [],
   "source": [
    "sdf = species_df[species_df.ncbi_taxon_id>0].drop_duplicates()\n",
    "gdf = genus_df[genus_df.ncbi_taxon_id>0].drop_duplicates()  #del unknown and Others"
   ]
  },
  {
   "cell_type": "markdown",
   "metadata": {},
   "source": [
    "### species table"
   ]
  },
  {
   "cell_type": "code",
   "execution_count": 14,
   "metadata": {},
   "outputs": [],
   "source": [
    "# sdf=sdf[sdf.RunID.isin(meta_samples)]\n",
    "sdf=sdf.groupby(['ncbi_taxon_id','RunID','scientific_name']).sum().reset_index()\n",
    "sdf_table = sdf.pivot(index='ncbi_taxon_id', columns='RunID', values='relative_abundance')\n",
    "sdf_table.fillna(value=0).to_csv('species_table.csv')"
   ]
  },
  {
   "cell_type": "code",
   "execution_count": 85,
   "metadata": {},
   "outputs": [
    {
     "data": {
      "text/html": [
       "<div>\n",
       "<style scoped>\n",
       "    .dataframe tbody tr th:only-of-type {\n",
       "        vertical-align: middle;\n",
       "    }\n",
       "\n",
       "    .dataframe tbody tr th {\n",
       "        vertical-align: top;\n",
       "    }\n",
       "\n",
       "    .dataframe thead th {\n",
       "        text-align: right;\n",
       "    }\n",
       "</style>\n",
       "<table border=\"1\" class=\"dataframe\">\n",
       "  <thead>\n",
       "    <tr style=\"text-align: right;\">\n",
       "      <th></th>\n",
       "      <th>ncbi_taxon_id</th>\n",
       "      <th>RunID</th>\n",
       "      <th>scientific_name</th>\n",
       "      <th>relative_abundance</th>\n",
       "    </tr>\n",
       "  </thead>\n",
       "  <tbody>\n",
       "    <tr>\n",
       "      <th>256</th>\n",
       "      <td>329</td>\n",
       "      <td>ERR2242021</td>\n",
       "      <td>Ralstonia pickettii</td>\n",
       "      <td>0.11139</td>\n",
       "    </tr>\n",
       "    <tr>\n",
       "      <th>1961</th>\n",
       "      <td>562</td>\n",
       "      <td>ERR2242021</td>\n",
       "      <td>Escherichia coli</td>\n",
       "      <td>0.14762</td>\n",
       "    </tr>\n",
       "    <tr>\n",
       "      <th>25786</th>\n",
       "      <td>1254</td>\n",
       "      <td>ERR2242021</td>\n",
       "      <td>Pediococcus acidilactici</td>\n",
       "      <td>0.18238</td>\n",
       "    </tr>\n",
       "    <tr>\n",
       "      <th>29421</th>\n",
       "      <td>1352</td>\n",
       "      <td>ERR2242021</td>\n",
       "      <td>Enterococcus faecium</td>\n",
       "      <td>99.26710</td>\n",
       "    </tr>\n",
       "  </tbody>\n",
       "</table>\n",
       "</div>"
      ],
      "text/plain": [
       "       ncbi_taxon_id       RunID           scientific_name  relative_abundance\n",
       "256              329  ERR2242021       Ralstonia pickettii             0.11139\n",
       "1961             562  ERR2242021          Escherichia coli             0.14762\n",
       "25786           1254  ERR2242021  Pediococcus acidilactici             0.18238\n",
       "29421           1352  ERR2242021      Enterococcus faecium            99.26710"
      ]
     },
     "execution_count": 85,
     "metadata": {},
     "output_type": "execute_result"
    }
   ],
   "source": [
    "sdf[sdf.RunID=='ERR2242021']"
   ]
  },
  {
   "cell_type": "markdown",
   "metadata": {},
   "source": [
    "## genus table"
   ]
  },
  {
   "cell_type": "code",
   "execution_count": 86,
   "metadata": {},
   "outputs": [],
   "source": [
    "gdf=gdf.groupby(['ncbi_taxon_id','RunID','scientific_name']).sum().reset_index()\n",
    "gdf_table = gdf.pivot(index='ncbi_taxon_id', columns='RunID', values='relative_abundance')\n",
    "gdf_table.fillna(value=0).to_csv('genus_table.csv')"
   ]
  },
  {
   "cell_type": "markdown",
   "metadata": {},
   "source": [
    "## get taxonomy file"
   ]
  },
  {
   "cell_type": "code",
   "execution_count": 90,
   "metadata": {},
   "outputs": [],
   "source": [
    "species_tax = sdf[['ncbi_taxon_id','scientific_name']].drop_duplicates()\n",
    "species_tax.to_csv('species_tax.csv',index=False)"
   ]
  },
  {
   "cell_type": "code",
   "execution_count": 91,
   "metadata": {},
   "outputs": [],
   "source": [
    "genus_tax = gdf[['ncbi_taxon_id','scientific_name']].drop_duplicates()\n",
    "genus_tax.to_csv('genus_tax.csv',index=False)"
   ]
  },
  {
   "cell_type": "markdown",
   "metadata": {},
   "source": [
    "# Amplicon\n",
    "\n",
    "download metadata for all amplicon samples\n",
    "\n",
    "user_selected_run_list_PyOfHsgnu7.txt"
   ]
  },
  {
   "cell_type": "code",
   "execution_count": null,
   "metadata": {},
   "outputs": [],
   "source": [
    "def get_pivot_table(species_df,outdir='amplicon', tax='species'):  \n",
    "    sdf = species_df[species_df.ncbi_taxon_id>0].drop_duplicates() #del unknown and Others\n",
    "    sdf=sdf.groupby(['ncbi_taxon_id','RunID','scientific_name']).sum().reset_index() #sum duplicate rows\n",
    "    sdf_table = sdf.pivot(index='ncbi_taxon_id', columns='RunID', values='relative_abundance') # pivot table\n",
    "    sdf_table.fillna(value=0).to_csv('./{}/{}_table.csv'.format(outdir, tax)) # save    \n",
    "    \n",
    "    species_tax = sdf[['ncbi_taxon_id','scientific_name']].drop_duplicates()\n",
    "    species_tax.to_csv('./{}/{}_tax.csv'.format(outdir, tax),index=False)\n",
    "    return sdf, species_tax"
   ]
  },
  {
   "cell_type": "code",
   "execution_count": 105,
   "metadata": {},
   "outputs": [],
   "source": [
    "all_amplicon_samples='./amplicon/user_selected_run_list_PyOfHsgnu7.txt'\n",
    "\n",
    "def get_metadata(samplefile):    \n",
    "    all_samples_ids = pd.read_csv(samplefile,sep='\\t',comment='#')\n",
    "    all_samples_metadata = all_samples_ids[['Run ID','Project ID','Country','Sex','Host age','BMI','Recent antibiotics use','Disease MESH ID']].drop_duplicates() #samples with metadata imformation\n",
    "    samples = all_samples_metadata['Run ID'].unique()\n",
    "    return samples, all_samples_metadata"
   ]
  },
  {
   "cell_type": "code",
   "execution_count": 106,
   "metadata": {},
   "outputs": [],
   "source": [
    "amplicon_samples , amplicon_samples_metadata = get_metadata(all_amplicon_samples)"
   ]
  },
  {
   "cell_type": "code",
   "execution_count": 111,
   "metadata": {},
   "outputs": [],
   "source": [
    "url = 'https://gmrepo.humangut.info/api/getRunDetailsByRunID'\n",
    "all_run_ids = amplicon_samples\n",
    "outdir = 'amplicon'\n",
    "amplicon_all_species_df,  amplicon_all_genus_df = getRunDetailsByRunID(url, all_run_ids,outdir)\n",
    "\n",
    "amplicon_species_df, amplicon_species_tax = get_pivot_table(amplicon_all_species_df,outdir='amplicon', tax='species')\n",
    "amplicon_genus_df, amplicon_genus_tax = get_pivot_table(amplicon_all_genus_df,outdir='amplicon', tax='genus')\n"
   ]
  },
  {
   "cell_type": "code",
   "execution_count": 117,
   "metadata": {},
   "outputs": [
    {
     "data": {
      "text/html": [
       "<div>\n",
       "<style scoped>\n",
       "    .dataframe tbody tr th:only-of-type {\n",
       "        vertical-align: middle;\n",
       "    }\n",
       "\n",
       "    .dataframe tbody tr th {\n",
       "        vertical-align: top;\n",
       "    }\n",
       "\n",
       "    .dataframe thead th {\n",
       "        text-align: right;\n",
       "    }\n",
       "</style>\n",
       "<table border=\"1\" class=\"dataframe\">\n",
       "  <thead>\n",
       "    <tr style=\"text-align: right;\">\n",
       "      <th></th>\n",
       "      <th>ncbi_taxon_id</th>\n",
       "      <th>taxon_rank_level</th>\n",
       "      <th>relative_abundance</th>\n",
       "      <th>scientific_name</th>\n",
       "      <th>RunID</th>\n",
       "    </tr>\n",
       "  </thead>\n",
       "  <tbody>\n",
       "    <tr>\n",
       "      <th>0</th>\n",
       "      <td>1515</td>\n",
       "      <td>species</td>\n",
       "      <td>6.79631</td>\n",
       "      <td>Ruminiclostridium thermocellum</td>\n",
       "      <td>DRR049319</td>\n",
       "    </tr>\n",
       "    <tr>\n",
       "      <th>1</th>\n",
       "      <td>59310</td>\n",
       "      <td>species</td>\n",
       "      <td>2.43579</td>\n",
       "      <td>Streptococcus macedonicus</td>\n",
       "      <td>DRR049319</td>\n",
       "    </tr>\n",
       "    <tr>\n",
       "      <th>2</th>\n",
       "      <td>589436</td>\n",
       "      <td>species</td>\n",
       "      <td>1.80195</td>\n",
       "      <td>Prevotella fusca</td>\n",
       "      <td>DRR049319</td>\n",
       "    </tr>\n",
       "    <tr>\n",
       "      <th>3</th>\n",
       "      <td>29389</td>\n",
       "      <td>species</td>\n",
       "      <td>1.63934</td>\n",
       "      <td>Streptococcus alactolyticus</td>\n",
       "      <td>DRR049319</td>\n",
       "    </tr>\n",
       "    <tr>\n",
       "      <th>4</th>\n",
       "      <td>102684</td>\n",
       "      <td>species</td>\n",
       "      <td>1.56966</td>\n",
       "      <td>Streptococcus infantarius</td>\n",
       "      <td>DRR049319</td>\n",
       "    </tr>\n",
       "  </tbody>\n",
       "</table>\n",
       "</div>"
      ],
      "text/plain": [
       "   ncbi_taxon_id taxon_rank_level  relative_abundance  \\\n",
       "0           1515          species             6.79631   \n",
       "1          59310          species             2.43579   \n",
       "2         589436          species             1.80195   \n",
       "3          29389          species             1.63934   \n",
       "4         102684          species             1.56966   \n",
       "\n",
       "                  scientific_name      RunID  \n",
       "0  Ruminiclostridium thermocellum  DRR049319  \n",
       "1       Streptococcus macedonicus  DRR049319  \n",
       "2                Prevotella fusca  DRR049319  \n",
       "3     Streptococcus alactolyticus  DRR049319  \n",
       "4       Streptococcus infantarius  DRR049319  "
      ]
     },
     "execution_count": 117,
     "metadata": {},
     "output_type": "execute_result"
    }
   ],
   "source": [
    "amplicon_all_species_df.head()"
   ]
  },
  {
   "cell_type": "code",
   "execution_count": 109,
   "metadata": {},
   "outputs": [
    {
     "data": {
      "text/plain": [
       "16679"
      ]
     },
     "execution_count": 109,
     "metadata": {},
     "output_type": "execute_result"
    }
   ],
   "source": [
    "len(amplicon_samples)\n"
   ]
  },
  {
   "cell_type": "code",
   "execution_count": 112,
   "metadata": {},
   "outputs": [
    {
     "data": {
      "text/plain": [
       "(19495, 8)"
      ]
     },
     "execution_count": 112,
     "metadata": {},
     "output_type": "execute_result"
    }
   ],
   "source": [
    "amplicon_samples_metadata.shape"
   ]
  },
  {
   "cell_type": "code",
   "execution_count": 114,
   "metadata": {},
   "outputs": [
    {
     "data": {
      "text/plain": [
       "(1311, 2)"
      ]
     },
     "execution_count": 114,
     "metadata": {},
     "output_type": "execute_result"
    }
   ],
   "source": [
    "amplicon_species_tax.shape"
   ]
  },
  {
   "cell_type": "markdown",
   "metadata": {},
   "source": [
    "# get NCBI taxonomic lineage and tree"
   ]
  },
  {
   "cell_type": "code",
   "execution_count": null,
   "metadata": {},
   "outputs": [],
   "source": [
    "import os\n",
    "import gneiss\n",
    "from ete3 import NCBITaxa\n",
    "ncbi = NCBITaxa()\n",
    "import pandas as pd\n",
    "\n",
    "\n",
    "def get_tax(ncbi_tax_id,rank='g'):\n",
    "    '''rank<- [k,p,c,o,f,g,s]'''\n",
    "    lineage = ncbi.get_lineage(ncbi_tax_id)\n",
    "    names = ncbi.get_taxid_translator(lineage)\n",
    "    ranks = ['k','p','c','o','f','g','s']   \n",
    "    taxs = [names[taxid] for taxid in lineage][2:] \n",
    "    if len(taxs)==6:\n",
    "        rank_tax = ';'.join(map(lambda x: x[0]+ '__'+ x[1], zip(ranks, taxs))) +';s__'\n",
    "    else:\n",
    "        rank_tax = ';'.join(map(lambda x: x[0]+ '__'+ x[1], zip(ranks, taxs)))\n",
    "    return rank_tax\n",
    "\n",
    "def get_tax_tree_from_ncbiID(\n",
    "    taxf=None,\n",
    "    rank='g',\n",
    "    outdir='./',\n",
    "):\n",
    "    tax_ori = pd.read_csv(taxf, index_col=0)\n",
    "    tax = [get_tax(id,rank=rank) for id in tax_ori.index]\n",
    "    tax_ori.iloc[:,0] = tax\n",
    "    tax_ori.to_csv(outdir + '{}_tax.xls'.format(rank), sep='\\t')   # for qiime import convert tsv\n",
    "    tax_ori.to_csv(outdir + '{}_tax_nohead.xls'.format(rank), sep='\\t',  header=False)\n",
    "    tree = ncbi.get_topology(tax_ori.index, collapse_subspecies=True)\n",
    "    #intermediate_nodes=False, rank_limit=None, collapse_subspecies=False, annotate=True\n",
    "    tree.write(features=[\"sci_name\", \"rank\"], format=9, outfile=outdir + \"{}_tree9.nwk\".format(rank))\n"
   ]
  },
  {
   "cell_type": "code",
   "execution_count": null,
   "metadata": {},
   "outputs": [],
   "source": [
    "os.chdir('/data/database/GMrepo/')\n",
    "os.getcwd()\n",
    "\n",
    "taxfg='/data/database/GMrepo/amplicon/genus_tax.csv'\n",
    "rankg = 'g'\n",
    "\n",
    "outdir = '/data/database/GMrepo/amplicon/'\n",
    "\n",
    "taxfs= '/data/database/GMrepo/amplicon/species_tax.csv'\n",
    "ranks = 's'\n",
    "# tree.write(format=9, outfile=outdir + \"{}_tree91.nwk\".format(rank))\n",
    "\n",
    "for taxf,rank in zip([taxfg,taxfs],['g', 's']):\n",
    "    get_tax_tree_from_ncbiID(\n",
    "        taxf=taxf,\n",
    "        rank=rank,\n",
    "        outdir=outdir\n",
    "    )\n",
    "    \n"
   ]
  },
  {
   "cell_type": "code",
   "execution_count": null,
   "metadata": {},
   "outputs": [],
   "source": []
  },
  {
   "cell_type": "markdown",
   "metadata": {},
   "source": [
    "## seperate phenotypes and generate phyloseq.Rdata\n",
    "\n",
    "### notebook: [phyloseq.ipynb](./phyloseq.ipynb)\n",
    "\n",
    "phyloseq.ipynb 生成每个疾病的otutable sample_data，taxtable，tree以及phyloseq.Rdata对象文件。"
   ]
  },
  {
   "cell_type": "code",
   "execution_count": null,
   "metadata": {},
   "outputs": [],
   "source": []
  },
  {
   "cell_type": "code",
   "execution_count": null,
   "metadata": {},
   "outputs": [],
   "source": []
  }
 ],
 "metadata": {
  "kernelspec": {
   "display_name": "Python 3",
   "language": "python",
   "name": "python3"
  },
  "language_info": {
   "codemirror_mode": {
    "name": "ipython",
    "version": 3
   },
   "file_extension": ".py",
   "mimetype": "text/x-python",
   "name": "python",
   "nbconvert_exporter": "python",
   "pygments_lexer": "ipython3",
   "version": "3.6.8"
  }
 },
 "nbformat": 4,
 "nbformat_minor": 2
}
